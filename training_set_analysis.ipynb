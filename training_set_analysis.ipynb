{
 "cells": [
  {
   "cell_type": "code",
   "execution_count": 47,
   "metadata": {},
   "outputs": [],
   "source": [
    "import pandas as pd\n",
    "import numpy as np\n",
    "import seaborn as sns\n",
    "\n",
    "%matplotlib inline\n",
    "\n",
    "train_df = pd.read_json(path_or_buf = \"/home/corentinconsigny/Documents/kaggle_cuisine/train.json\")"
   ]
  },
  {
   "cell_type": "code",
   "execution_count": 48,
   "metadata": {},
   "outputs": [],
   "source": [
    "#### Creation of the Series ingredients with all the different ingredients used \n",
    "\n",
    "ingredients = []\n",
    "lmax = 0\n",
    "for rec in train_df.ingredients:\n",
    "    ingredients += rec\n",
    "    l = len(rec)\n",
    "    if l > lmax:\n",
    "        lmax = l\n",
    "        \n",
    "train_df['nb_ingredients'] = train_df.ingredients.apply(lambda x : len(x))\n",
    "    \n",
    "ingredients = pd.Series(ingredients)\n",
    "ingredients = ingredients.unique()"
   ]
  },
  {
   "cell_type": "markdown",
   "metadata": {},
   "source": [
    "Training set :\n",
    "6714 different ingredients\n",
    "Max number of ingredients for a recipe : 65\n",
    "39774 recipes\n",
    "20 different cuisines"
   ]
  },
  {
   "cell_type": "code",
   "execution_count": 49,
   "metadata": {},
   "outputs": [
    {
     "data": {
      "text/html": [
       "<div>\n",
       "<style scoped>\n",
       "    .dataframe tbody tr th:only-of-type {\n",
       "        vertical-align: middle;\n",
       "    }\n",
       "\n",
       "    .dataframe tbody tr th {\n",
       "        vertical-align: top;\n",
       "    }\n",
       "\n",
       "    .dataframe thead th {\n",
       "        text-align: right;\n",
       "    }\n",
       "</style>\n",
       "<table border=\"1\" class=\"dataframe\">\n",
       "  <thead>\n",
       "    <tr style=\"text-align: right;\">\n",
       "      <th></th>\n",
       "      <th>cuisine</th>\n",
       "      <th>id</th>\n",
       "      <th>ingredients</th>\n",
       "      <th>nb_ingredients</th>\n",
       "    </tr>\n",
       "  </thead>\n",
       "  <tbody>\n",
       "    <tr>\n",
       "      <th>0</th>\n",
       "      <td>greek</td>\n",
       "      <td>10259</td>\n",
       "      <td>[romaine lettuce, black olives, grape tomatoes...</td>\n",
       "      <td>9</td>\n",
       "    </tr>\n",
       "    <tr>\n",
       "      <th>1</th>\n",
       "      <td>southern_us</td>\n",
       "      <td>25693</td>\n",
       "      <td>[plain flour, ground pepper, salt, tomatoes, g...</td>\n",
       "      <td>11</td>\n",
       "    </tr>\n",
       "    <tr>\n",
       "      <th>2</th>\n",
       "      <td>filipino</td>\n",
       "      <td>20130</td>\n",
       "      <td>[eggs, pepper, salt, mayonaise, cooking oil, g...</td>\n",
       "      <td>12</td>\n",
       "    </tr>\n",
       "    <tr>\n",
       "      <th>3</th>\n",
       "      <td>indian</td>\n",
       "      <td>22213</td>\n",
       "      <td>[water, vegetable oil, wheat, salt]</td>\n",
       "      <td>4</td>\n",
       "    </tr>\n",
       "    <tr>\n",
       "      <th>4</th>\n",
       "      <td>indian</td>\n",
       "      <td>13162</td>\n",
       "      <td>[black pepper, shallots, cornflour, cayenne pe...</td>\n",
       "      <td>20</td>\n",
       "    </tr>\n",
       "  </tbody>\n",
       "</table>\n",
       "</div>"
      ],
      "text/plain": [
       "       cuisine     id                                        ingredients  \\\n",
       "0        greek  10259  [romaine lettuce, black olives, grape tomatoes...   \n",
       "1  southern_us  25693  [plain flour, ground pepper, salt, tomatoes, g...   \n",
       "2     filipino  20130  [eggs, pepper, salt, mayonaise, cooking oil, g...   \n",
       "3       indian  22213                [water, vegetable oil, wheat, salt]   \n",
       "4       indian  13162  [black pepper, shallots, cornflour, cayenne pe...   \n",
       "\n",
       "   nb_ingredients  \n",
       "0               9  \n",
       "1              11  \n",
       "2              12  \n",
       "3               4  \n",
       "4              20  "
      ]
     },
     "execution_count": 49,
     "metadata": {},
     "output_type": "execute_result"
    }
   ],
   "source": [
    "train_df.head()"
   ]
  },
  {
   "cell_type": "code",
   "execution_count": 56,
   "metadata": {},
   "outputs": [
    {
     "data": {
      "image/png": "[encoded data removed]",
      "text/plain": [
       "<Figure size 432x288 with 1 Axes>"
      ]
     },
     "metadata": {},
     "output_type": "display_data"
    }
   ],
   "source": [
    "sns.countplot(y = \"cuisine\", data = train_df);"
   ]
  },
  {
   "cell_type": "code",
   "execution_count": 64,
   "metadata": {},
   "outputs": [
    {
     "name": "stdout",
     "output_type": "stream",
     "text": [
      "Mean number of ingredients in greek cuisine : 10.182127659574467, standard deviation : 3.7294610369244876\n",
      "Mean number of ingredients in southern_us cuisine : 9.634953703703705, standard deviation : 3.8694043912265648\n",
      "Mean number of ingredients in filipino cuisine : 10.0, standard deviation : 3.8551354017099375\n",
      "Mean number of ingredients in indian cuisine : 12.705960705960706, standard deviation : 5.0168059765469195\n",
      "Mean number of ingredients in jamaican cuisine : 12.214828897338403, standard deviation : 4.763896831196827\n",
      "Mean number of ingredients in spanish cuisine : 10.42366026289181, standard deviation : 4.1609188039865375\n",
      "Mean number of ingredients in italian cuisine : 9.909032916560347, standard deviation : 3.8067075189305783\n",
      "Mean number of ingredients in mexican cuisine : 10.87744641192917, standard deviation : 4.6601831519075505\n",
      "Mean number of ingredients in chinese cuisine : 11.98279087167976, standard deviation : 4.042125133064756\n",
      "Mean number of ingredients in british cuisine : 9.708955223880597, standard deviation : 4.165011040125667\n",
      "Mean number of ingredients in thai cuisine : 12.545808966861598, standard deviation : 4.411794134174698\n",
      "Mean number of ingredients in vietnamese cuisine : 12.675151515151516, standard deviation : 5.256173047421716\n",
      "Mean number of ingredients in cajun_creole cuisine : 12.617076326002588, standard deviation : 4.611601325613868\n",
      "Mean number of ingredients in brazilian cuisine : 9.5203426124197, standard deviation : 5.555138506901758\n",
      "Mean number of ingredients in french cuisine : 9.817838246409675, standard deviation : 4.144744002792465\n",
      "Mean number of ingredients in japanese cuisine : 9.735066760365426, standard deviation : 4.245881612472164\n",
      "Mean number of ingredients in irish cuisine : 9.299850074962519, standard deviation : 3.700505197432841\n",
      "Mean number of ingredients in korean cuisine : 11.28433734939759, standard deviation : 3.8788804276731668\n",
      "Mean number of ingredients in moroccan cuisine : 12.909866017052375, standard deviation : 4.799813269394036\n",
      "Mean number of ingredients in russian cuisine : 10.224948875255624, standard deviation : 4.051223156653291\n"
     ]
    }
   ],
   "source": [
    "for cuis in train_df.cuisine.unique():\n",
    "    mean = train_df.where(train_df.cuisine == cuis).nb_ingredients.mean()\n",
    "    std = train_df.where(train_df.cuisine == cuis).nb_ingredients.std()\n",
    "    print(\"Mean number of ingredients in \" + cuis + \" cuisine : \" + str(mean) + \", standard deviation : \" + str(std))"
   ]
  },
  {
   "cell_type": "code",
   "execution_count": null,
   "metadata": {},
   "outputs": [],
   "source": [
    "#### Individual cuisine description :\n",
    "\n"
   ]
  }
 ],
 "metadata": {
  "kernelspec": {
   "display_name": "Python 3",
   "language": "python",
   "name": "python3"
  },
  "language_info": {
   "codemirror_mode": {
    "name": "ipython",
    "version": 3
   },
   "file_extension": ".py",
   "mimetype": "text/x-python",
   "name": "python",
   "nbconvert_exporter": "python",
   "pygments_lexer": "ipython3",
   "version": "3.6.7"
  }
 },
 "nbformat": 4,
 "nbformat_minor": 2
}
